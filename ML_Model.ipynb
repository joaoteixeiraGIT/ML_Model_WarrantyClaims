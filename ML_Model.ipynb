{
  "nbformat": 4,
  "nbformat_minor": 0,
  "metadata": {
    "colab": {
      "provenance": [],
      "authorship_tag": "ABX9TyNkbk2ucAjlaSCCbLVSbl88",
      "include_colab_link": true
    },
    "kernelspec": {
      "name": "python3",
      "display_name": "Python 3"
    },
    "language_info": {
      "name": "python"
    }
  },
  "cells": [
    {
      "cell_type": "markdown",
      "metadata": {
        "id": "view-in-github",
        "colab_type": "text"
      },
      "source": [
        "<a href=\"https://colab.research.google.com/github/joaoteixeiraGIT/ML_Model_WarrantyClaims/blob/main/ML_Model.ipynb\" target=\"_parent\"><img src=\"https://colab.research.google.com/assets/colab-badge.svg\" alt=\"Open In Colab\"/></a>"
      ]
    },
    {
      "cell_type": "markdown",
      "source": [
        "Connect to Google Drive"
      ],
      "metadata": {
        "id": "fH7eB6fC-0bJ"
      }
    },
    {
      "cell_type": "code",
      "source": [
        "from google.colab import drive\n",
        "drive.mount('/content/drive')"
      ],
      "metadata": {
        "id": "0nLLbvBV-dOc",
        "colab": {
          "base_uri": "https://localhost:8080/"
        },
        "outputId": "fde9e2e2-41b4-4e3a-ec40-5c0c444624c5"
      },
      "execution_count": null,
      "outputs": [
        {
          "output_type": "stream",
          "name": "stdout",
          "text": [
            "Mounted at /content/drive\n"
          ]
        }
      ]
    },
    {
      "cell_type": "code",
      "source": [
        "import pandas as pd\n",
        "\n",
        "data = pd.read_csv('/content/drive/MyDrive/Colab Notebooks/warranty_claims.csv')"
      ],
      "metadata": {
        "id": "ubV19dsxHT0t"
      },
      "execution_count": null,
      "outputs": []
    },
    {
      "cell_type": "markdown",
      "source": [
        "After import the dataset, I should check if there are columns that aren't needed. If so, i need to remove them."
      ],
      "metadata": {
        "id": "0wm1nj11HgzR"
      }
    },
    {
      "cell_type": "code",
      "source": [
        "# Remove the 'ID' column\n",
        "data = data.drop('ID', axis=1)\n",
        "data"
      ],
      "metadata": {
        "id": "2I-BfHIUHxKo",
        "colab": {
          "base_uri": "https://localhost:8080/",
          "height": 444
        },
        "outputId": "64d5d9bf-32d2-43dd-b681-3a67b739f30f"
      },
      "execution_count": null,
      "outputs": [
        {
          "output_type": "execute_result",
          "data": {
            "text/plain": [
              "       Area Consumer_profile Product_category Product_type  AC_1001_Issue  \\\n",
              "0     Rural         Personal        Household           AC            0.0   \n",
              "1     Urban         Personal    Entertainment           TV            0.0   \n",
              "2     Rural         Business        Household           AC            0.0   \n",
              "3     Rural         Personal    Entertainment           TV            0.0   \n",
              "4     Rural         Business        Household           AC            0.0   \n",
              "...     ...              ...              ...          ...            ...   \n",
              "8336  Urban         Personal        Household           AC            0.0   \n",
              "8337  Rural         Personal        Household           AC            0.0   \n",
              "8338  Urban         Personal        Household           AC            0.0   \n",
              "8339  Urban         Personal        Household           AC            1.0   \n",
              "8340  Urban         Personal    Entertainment           TV            0.0   \n",
              "\n",
              "      AC_1002_Issue  AC_1003_Issue  TV_2001_Issue  TV_2002_Issue  \\\n",
              "0               1.0            2.0            0.0            0.0   \n",
              "1               0.0            0.0            1.0            1.0   \n",
              "2               0.0            0.0            0.0            0.0   \n",
              "3               0.0            0.0            1.0            1.0   \n",
              "4               0.0            0.0            0.0            0.0   \n",
              "...             ...            ...            ...            ...   \n",
              "8336            1.0            1.0            0.0            0.0   \n",
              "8337            0.0            0.0            0.0            0.0   \n",
              "8338            1.0            0.0            0.0            0.0   \n",
              "8339            1.0            1.0            0.0            0.0   \n",
              "8340            0.0            0.0            0.0            0.0   \n",
              "\n",
              "      TV_2003_Issue  Claim_Value  Service_Centre  Product_Age Purchased_from  \\\n",
              "0               0.0       4474.0            12.0        202.0   Manufacturer   \n",
              "1               1.0      25000.0            13.0         60.0         Dealer   \n",
              "2               0.0      10000.0            12.0          3.0         Dealer   \n",
              "3               0.0       4216.0            10.0        672.0         Dealer   \n",
              "4               0.0      20000.0            13.0          3.0   Manufacturer   \n",
              "...             ...          ...             ...          ...            ...   \n",
              "8336            0.0      10000.0            14.0         15.0         Dealer   \n",
              "8337            0.0      50000.0            13.0          4.0   Manufacturer   \n",
              "8338            0.0       2000.0            12.0         61.0         Dealer   \n",
              "8339            0.0       6000.0            15.0        280.0         Dealer   \n",
              "8340            0.0      10000.0            14.0         60.0         Dealer   \n",
              "\n",
              "      Call_details    Purpose  Fraud  \n",
              "0             30.0      Claim      0  \n",
              "1              1.3  Complaint      0  \n",
              "2              2.5      Claim      0  \n",
              "3             25.0      Other      0  \n",
              "4              6.5      Claim      0  \n",
              "...            ...        ...    ...  \n",
              "8336           2.6      Claim      0  \n",
              "8337           1.3  Complaint      0  \n",
              "8338          24.0      Claim      0  \n",
              "8339          21.0  Complaint      0  \n",
              "8340           1.4  Complaint      0  \n",
              "\n",
              "[8341 rows x 17 columns]"
            ],
            "text/html": [
              "\n",
              "  <div id=\"df-70383fc4-2eff-4bc2-83d5-38f2aee929d8\" class=\"colab-df-container\">\n",
              "    <div>\n",
              "<style scoped>\n",
              "    .dataframe tbody tr th:only-of-type {\n",
              "        vertical-align: middle;\n",
              "    }\n",
              "\n",
              "    .dataframe tbody tr th {\n",
              "        vertical-align: top;\n",
              "    }\n",
              "\n",
              "    .dataframe thead th {\n",
              "        text-align: right;\n",
              "    }\n",
              "</style>\n",
              "<table border=\"1\" class=\"dataframe\">\n",
              "  <thead>\n",
              "    <tr style=\"text-align: right;\">\n",
              "      <th></th>\n",
              "      <th>Area</th>\n",
              "      <th>Consumer_profile</th>\n",
              "      <th>Product_category</th>\n",
              "      <th>Product_type</th>\n",
              "      <th>AC_1001_Issue</th>\n",
              "      <th>AC_1002_Issue</th>\n",
              "      <th>AC_1003_Issue</th>\n",
              "      <th>TV_2001_Issue</th>\n",
              "      <th>TV_2002_Issue</th>\n",
              "      <th>TV_2003_Issue</th>\n",
              "      <th>Claim_Value</th>\n",
              "      <th>Service_Centre</th>\n",
              "      <th>Product_Age</th>\n",
              "      <th>Purchased_from</th>\n",
              "      <th>Call_details</th>\n",
              "      <th>Purpose</th>\n",
              "      <th>Fraud</th>\n",
              "    </tr>\n",
              "  </thead>\n",
              "  <tbody>\n",
              "    <tr>\n",
              "      <th>0</th>\n",
              "      <td>Rural</td>\n",
              "      <td>Personal</td>\n",
              "      <td>Household</td>\n",
              "      <td>AC</td>\n",
              "      <td>0.0</td>\n",
              "      <td>1.0</td>\n",
              "      <td>2.0</td>\n",
              "      <td>0.0</td>\n",
              "      <td>0.0</td>\n",
              "      <td>0.0</td>\n",
              "      <td>4474.0</td>\n",
              "      <td>12.0</td>\n",
              "      <td>202.0</td>\n",
              "      <td>Manufacturer</td>\n",
              "      <td>30.0</td>\n",
              "      <td>Claim</td>\n",
              "      <td>0</td>\n",
              "    </tr>\n",
              "    <tr>\n",
              "      <th>1</th>\n",
              "      <td>Urban</td>\n",
              "      <td>Personal</td>\n",
              "      <td>Entertainment</td>\n",
              "      <td>TV</td>\n",
              "      <td>0.0</td>\n",
              "      <td>0.0</td>\n",
              "      <td>0.0</td>\n",
              "      <td>1.0</td>\n",
              "      <td>1.0</td>\n",
              "      <td>1.0</td>\n",
              "      <td>25000.0</td>\n",
              "      <td>13.0</td>\n",
              "      <td>60.0</td>\n",
              "      <td>Dealer</td>\n",
              "      <td>1.3</td>\n",
              "      <td>Complaint</td>\n",
              "      <td>0</td>\n",
              "    </tr>\n",
              "    <tr>\n",
              "      <th>2</th>\n",
              "      <td>Rural</td>\n",
              "      <td>Business</td>\n",
              "      <td>Household</td>\n",
              "      <td>AC</td>\n",
              "      <td>0.0</td>\n",
              "      <td>0.0</td>\n",
              "      <td>0.0</td>\n",
              "      <td>0.0</td>\n",
              "      <td>0.0</td>\n",
              "      <td>0.0</td>\n",
              "      <td>10000.0</td>\n",
              "      <td>12.0</td>\n",
              "      <td>3.0</td>\n",
              "      <td>Dealer</td>\n",
              "      <td>2.5</td>\n",
              "      <td>Claim</td>\n",
              "      <td>0</td>\n",
              "    </tr>\n",
              "    <tr>\n",
              "      <th>3</th>\n",
              "      <td>Rural</td>\n",
              "      <td>Personal</td>\n",
              "      <td>Entertainment</td>\n",
              "      <td>TV</td>\n",
              "      <td>0.0</td>\n",
              "      <td>0.0</td>\n",
              "      <td>0.0</td>\n",
              "      <td>1.0</td>\n",
              "      <td>1.0</td>\n",
              "      <td>0.0</td>\n",
              "      <td>4216.0</td>\n",
              "      <td>10.0</td>\n",
              "      <td>672.0</td>\n",
              "      <td>Dealer</td>\n",
              "      <td>25.0</td>\n",
              "      <td>Other</td>\n",
              "      <td>0</td>\n",
              "    </tr>\n",
              "    <tr>\n",
              "      <th>4</th>\n",
              "      <td>Rural</td>\n",
              "      <td>Business</td>\n",
              "      <td>Household</td>\n",
              "      <td>AC</td>\n",
              "      <td>0.0</td>\n",
              "      <td>0.0</td>\n",
              "      <td>0.0</td>\n",
              "      <td>0.0</td>\n",
              "      <td>0.0</td>\n",
              "      <td>0.0</td>\n",
              "      <td>20000.0</td>\n",
              "      <td>13.0</td>\n",
              "      <td>3.0</td>\n",
              "      <td>Manufacturer</td>\n",
              "      <td>6.5</td>\n",
              "      <td>Claim</td>\n",
              "      <td>0</td>\n",
              "    </tr>\n",
              "    <tr>\n",
              "      <th>...</th>\n",
              "      <td>...</td>\n",
              "      <td>...</td>\n",
              "      <td>...</td>\n",
              "      <td>...</td>\n",
              "      <td>...</td>\n",
              "      <td>...</td>\n",
              "      <td>...</td>\n",
              "      <td>...</td>\n",
              "      <td>...</td>\n",
              "      <td>...</td>\n",
              "      <td>...</td>\n",
              "      <td>...</td>\n",
              "      <td>...</td>\n",
              "      <td>...</td>\n",
              "      <td>...</td>\n",
              "      <td>...</td>\n",
              "      <td>...</td>\n",
              "    </tr>\n",
              "    <tr>\n",
              "      <th>8336</th>\n",
              "      <td>Urban</td>\n",
              "      <td>Personal</td>\n",
              "      <td>Household</td>\n",
              "      <td>AC</td>\n",
              "      <td>0.0</td>\n",
              "      <td>1.0</td>\n",
              "      <td>1.0</td>\n",
              "      <td>0.0</td>\n",
              "      <td>0.0</td>\n",
              "      <td>0.0</td>\n",
              "      <td>10000.0</td>\n",
              "      <td>14.0</td>\n",
              "      <td>15.0</td>\n",
              "      <td>Dealer</td>\n",
              "      <td>2.6</td>\n",
              "      <td>Claim</td>\n",
              "      <td>0</td>\n",
              "    </tr>\n",
              "    <tr>\n",
              "      <th>8337</th>\n",
              "      <td>Rural</td>\n",
              "      <td>Personal</td>\n",
              "      <td>Household</td>\n",
              "      <td>AC</td>\n",
              "      <td>0.0</td>\n",
              "      <td>0.0</td>\n",
              "      <td>0.0</td>\n",
              "      <td>0.0</td>\n",
              "      <td>0.0</td>\n",
              "      <td>0.0</td>\n",
              "      <td>50000.0</td>\n",
              "      <td>13.0</td>\n",
              "      <td>4.0</td>\n",
              "      <td>Manufacturer</td>\n",
              "      <td>1.3</td>\n",
              "      <td>Complaint</td>\n",
              "      <td>0</td>\n",
              "    </tr>\n",
              "    <tr>\n",
              "      <th>8338</th>\n",
              "      <td>Urban</td>\n",
              "      <td>Personal</td>\n",
              "      <td>Household</td>\n",
              "      <td>AC</td>\n",
              "      <td>0.0</td>\n",
              "      <td>1.0</td>\n",
              "      <td>0.0</td>\n",
              "      <td>0.0</td>\n",
              "      <td>0.0</td>\n",
              "      <td>0.0</td>\n",
              "      <td>2000.0</td>\n",
              "      <td>12.0</td>\n",
              "      <td>61.0</td>\n",
              "      <td>Dealer</td>\n",
              "      <td>24.0</td>\n",
              "      <td>Claim</td>\n",
              "      <td>0</td>\n",
              "    </tr>\n",
              "    <tr>\n",
              "      <th>8339</th>\n",
              "      <td>Urban</td>\n",
              "      <td>Personal</td>\n",
              "      <td>Household</td>\n",
              "      <td>AC</td>\n",
              "      <td>1.0</td>\n",
              "      <td>1.0</td>\n",
              "      <td>1.0</td>\n",
              "      <td>0.0</td>\n",
              "      <td>0.0</td>\n",
              "      <td>0.0</td>\n",
              "      <td>6000.0</td>\n",
              "      <td>15.0</td>\n",
              "      <td>280.0</td>\n",
              "      <td>Dealer</td>\n",
              "      <td>21.0</td>\n",
              "      <td>Complaint</td>\n",
              "      <td>0</td>\n",
              "    </tr>\n",
              "    <tr>\n",
              "      <th>8340</th>\n",
              "      <td>Urban</td>\n",
              "      <td>Personal</td>\n",
              "      <td>Entertainment</td>\n",
              "      <td>TV</td>\n",
              "      <td>0.0</td>\n",
              "      <td>0.0</td>\n",
              "      <td>0.0</td>\n",
              "      <td>0.0</td>\n",
              "      <td>0.0</td>\n",
              "      <td>0.0</td>\n",
              "      <td>10000.0</td>\n",
              "      <td>14.0</td>\n",
              "      <td>60.0</td>\n",
              "      <td>Dealer</td>\n",
              "      <td>1.4</td>\n",
              "      <td>Complaint</td>\n",
              "      <td>0</td>\n",
              "    </tr>\n",
              "  </tbody>\n",
              "</table>\n",
              "<p>8341 rows × 17 columns</p>\n",
              "</div>\n",
              "    <div class=\"colab-df-buttons\">\n",
              "\n",
              "  <div class=\"colab-df-container\">\n",
              "    <button class=\"colab-df-convert\" onclick=\"convertToInteractive('df-70383fc4-2eff-4bc2-83d5-38f2aee929d8')\"\n",
              "            title=\"Convert this dataframe to an interactive table.\"\n",
              "            style=\"display:none;\">\n",
              "\n",
              "  <svg xmlns=\"http://www.w3.org/2000/svg\" height=\"24px\" viewBox=\"0 -960 960 960\">\n",
              "    <path d=\"M120-120v-720h720v720H120Zm60-500h600v-160H180v160Zm220 220h160v-160H400v160Zm0 220h160v-160H400v160ZM180-400h160v-160H180v160Zm440 0h160v-160H620v160ZM180-180h160v-160H180v160Zm440 0h160v-160H620v160Z\"/>\n",
              "  </svg>\n",
              "    </button>\n",
              "\n",
              "  <style>\n",
              "    .colab-df-container {\n",
              "      display:flex;\n",
              "      gap: 12px;\n",
              "    }\n",
              "\n",
              "    .colab-df-convert {\n",
              "      background-color: #E8F0FE;\n",
              "      border: none;\n",
              "      border-radius: 50%;\n",
              "      cursor: pointer;\n",
              "      display: none;\n",
              "      fill: #1967D2;\n",
              "      height: 32px;\n",
              "      padding: 0 0 0 0;\n",
              "      width: 32px;\n",
              "    }\n",
              "\n",
              "    .colab-df-convert:hover {\n",
              "      background-color: #E2EBFA;\n",
              "      box-shadow: 0px 1px 2px rgba(60, 64, 67, 0.3), 0px 1px 3px 1px rgba(60, 64, 67, 0.15);\n",
              "      fill: #174EA6;\n",
              "    }\n",
              "\n",
              "    .colab-df-buttons div {\n",
              "      margin-bottom: 4px;\n",
              "    }\n",
              "\n",
              "    [theme=dark] .colab-df-convert {\n",
              "      background-color: #3B4455;\n",
              "      fill: #D2E3FC;\n",
              "    }\n",
              "\n",
              "    [theme=dark] .colab-df-convert:hover {\n",
              "      background-color: #434B5C;\n",
              "      box-shadow: 0px 1px 3px 1px rgba(0, 0, 0, 0.15);\n",
              "      filter: drop-shadow(0px 1px 2px rgba(0, 0, 0, 0.3));\n",
              "      fill: #FFFFFF;\n",
              "    }\n",
              "  </style>\n",
              "\n",
              "    <script>\n",
              "      const buttonEl =\n",
              "        document.querySelector('#df-70383fc4-2eff-4bc2-83d5-38f2aee929d8 button.colab-df-convert');\n",
              "      buttonEl.style.display =\n",
              "        google.colab.kernel.accessAllowed ? 'block' : 'none';\n",
              "\n",
              "      async function convertToInteractive(key) {\n",
              "        const element = document.querySelector('#df-70383fc4-2eff-4bc2-83d5-38f2aee929d8');\n",
              "        const dataTable =\n",
              "          await google.colab.kernel.invokeFunction('convertToInteractive',\n",
              "                                                    [key], {});\n",
              "        if (!dataTable) return;\n",
              "\n",
              "        const docLinkHtml = 'Like what you see? Visit the ' +\n",
              "          '<a target=\"_blank\" href=https://colab.research.google.com/notebooks/data_table.ipynb>data table notebook</a>'\n",
              "          + ' to learn more about interactive tables.';\n",
              "        element.innerHTML = '';\n",
              "        dataTable['output_type'] = 'display_data';\n",
              "        await google.colab.output.renderOutput(dataTable, element);\n",
              "        const docLink = document.createElement('div');\n",
              "        docLink.innerHTML = docLinkHtml;\n",
              "        element.appendChild(docLink);\n",
              "      }\n",
              "    </script>\n",
              "  </div>\n",
              "\n",
              "\n",
              "<div id=\"df-28eaa34b-cc59-4da8-b108-d288f83f6fcc\">\n",
              "  <button class=\"colab-df-quickchart\" onclick=\"quickchart('df-28eaa34b-cc59-4da8-b108-d288f83f6fcc')\"\n",
              "            title=\"Suggest charts\"\n",
              "            style=\"display:none;\">\n",
              "\n",
              "<svg xmlns=\"http://www.w3.org/2000/svg\" height=\"24px\"viewBox=\"0 0 24 24\"\n",
              "     width=\"24px\">\n",
              "    <g>\n",
              "        <path d=\"M19 3H5c-1.1 0-2 .9-2 2v14c0 1.1.9 2 2 2h14c1.1 0 2-.9 2-2V5c0-1.1-.9-2-2-2zM9 17H7v-7h2v7zm4 0h-2V7h2v10zm4 0h-2v-4h2v4z\"/>\n",
              "    </g>\n",
              "</svg>\n",
              "  </button>\n",
              "\n",
              "<style>\n",
              "  .colab-df-quickchart {\n",
              "      --bg-color: #E8F0FE;\n",
              "      --fill-color: #1967D2;\n",
              "      --hover-bg-color: #E2EBFA;\n",
              "      --hover-fill-color: #174EA6;\n",
              "      --disabled-fill-color: #AAA;\n",
              "      --disabled-bg-color: #DDD;\n",
              "  }\n",
              "\n",
              "  [theme=dark] .colab-df-quickchart {\n",
              "      --bg-color: #3B4455;\n",
              "      --fill-color: #D2E3FC;\n",
              "      --hover-bg-color: #434B5C;\n",
              "      --hover-fill-color: #FFFFFF;\n",
              "      --disabled-bg-color: #3B4455;\n",
              "      --disabled-fill-color: #666;\n",
              "  }\n",
              "\n",
              "  .colab-df-quickchart {\n",
              "    background-color: var(--bg-color);\n",
              "    border: none;\n",
              "    border-radius: 50%;\n",
              "    cursor: pointer;\n",
              "    display: none;\n",
              "    fill: var(--fill-color);\n",
              "    height: 32px;\n",
              "    padding: 0;\n",
              "    width: 32px;\n",
              "  }\n",
              "\n",
              "  .colab-df-quickchart:hover {\n",
              "    background-color: var(--hover-bg-color);\n",
              "    box-shadow: 0 1px 2px rgba(60, 64, 67, 0.3), 0 1px 3px 1px rgba(60, 64, 67, 0.15);\n",
              "    fill: var(--button-hover-fill-color);\n",
              "  }\n",
              "\n",
              "  .colab-df-quickchart-complete:disabled,\n",
              "  .colab-df-quickchart-complete:disabled:hover {\n",
              "    background-color: var(--disabled-bg-color);\n",
              "    fill: var(--disabled-fill-color);\n",
              "    box-shadow: none;\n",
              "  }\n",
              "\n",
              "  .colab-df-spinner {\n",
              "    border: 2px solid var(--fill-color);\n",
              "    border-color: transparent;\n",
              "    border-bottom-color: var(--fill-color);\n",
              "    animation:\n",
              "      spin 1s steps(1) infinite;\n",
              "  }\n",
              "\n",
              "  @keyframes spin {\n",
              "    0% {\n",
              "      border-color: transparent;\n",
              "      border-bottom-color: var(--fill-color);\n",
              "      border-left-color: var(--fill-color);\n",
              "    }\n",
              "    20% {\n",
              "      border-color: transparent;\n",
              "      border-left-color: var(--fill-color);\n",
              "      border-top-color: var(--fill-color);\n",
              "    }\n",
              "    30% {\n",
              "      border-color: transparent;\n",
              "      border-left-color: var(--fill-color);\n",
              "      border-top-color: var(--fill-color);\n",
              "      border-right-color: var(--fill-color);\n",
              "    }\n",
              "    40% {\n",
              "      border-color: transparent;\n",
              "      border-right-color: var(--fill-color);\n",
              "      border-top-color: var(--fill-color);\n",
              "    }\n",
              "    60% {\n",
              "      border-color: transparent;\n",
              "      border-right-color: var(--fill-color);\n",
              "    }\n",
              "    80% {\n",
              "      border-color: transparent;\n",
              "      border-right-color: var(--fill-color);\n",
              "      border-bottom-color: var(--fill-color);\n",
              "    }\n",
              "    90% {\n",
              "      border-color: transparent;\n",
              "      border-bottom-color: var(--fill-color);\n",
              "    }\n",
              "  }\n",
              "</style>\n",
              "\n",
              "  <script>\n",
              "    async function quickchart(key) {\n",
              "      const quickchartButtonEl =\n",
              "        document.querySelector('#' + key + ' button');\n",
              "      quickchartButtonEl.disabled = true;  // To prevent multiple clicks.\n",
              "      quickchartButtonEl.classList.add('colab-df-spinner');\n",
              "      try {\n",
              "        const charts = await google.colab.kernel.invokeFunction(\n",
              "            'suggestCharts', [key], {});\n",
              "      } catch (error) {\n",
              "        console.error('Error during call to suggestCharts:', error);\n",
              "      }\n",
              "      quickchartButtonEl.classList.remove('colab-df-spinner');\n",
              "      quickchartButtonEl.classList.add('colab-df-quickchart-complete');\n",
              "    }\n",
              "    (() => {\n",
              "      let quickchartButtonEl =\n",
              "        document.querySelector('#df-28eaa34b-cc59-4da8-b108-d288f83f6fcc button');\n",
              "      quickchartButtonEl.style.display =\n",
              "        google.colab.kernel.accessAllowed ? 'block' : 'none';\n",
              "    })();\n",
              "  </script>\n",
              "</div>\n",
              "    </div>\n",
              "  </div>\n"
            ]
          },
          "metadata": {},
          "execution_count": 3
        }
      ]
    },
    {
      "cell_type": "code",
      "source": [
        "# Check for missing values in each column\n",
        "missing_values = data.isna().sum()\n",
        "print(missing_values)"
      ],
      "metadata": {
        "colab": {
          "base_uri": "https://localhost:8080/"
        },
        "id": "QBVKg2kEJZFc",
        "outputId": "6414f127-50b9-4a4e-b826-4051e0bb2e33"
      },
      "execution_count": null,
      "outputs": [
        {
          "output_type": "stream",
          "name": "stdout",
          "text": [
            "Area                  0\n",
            "Consumer_profile      0\n",
            "Product_category      0\n",
            "Product_type          0\n",
            "AC_1001_Issue         0\n",
            "AC_1002_Issue         0\n",
            "AC_1003_Issue         0\n",
            "TV_2001_Issue         0\n",
            "TV_2002_Issue         0\n",
            "TV_2003_Issue         0\n",
            "Claim_Value         240\n",
            "Service_Centre        0\n",
            "Product_Age           0\n",
            "Purchased_from        0\n",
            "Call_details          0\n",
            "Purpose               0\n",
            "Fraud                 0\n",
            "dtype: int64\n"
          ]
        }
      ]
    },
    {
      "cell_type": "markdown",
      "source": [
        "After executing the piece of code above, I can say that there are 240 cells that haven't a value in the column claim value. For that, I will fill with values of the mean of this column.\n"
      ],
      "metadata": {
        "id": "G1P1U1iCJsgp"
      }
    },
    {
      "cell_type": "code",
      "source": [
        "data['Claim_Value'].fillna(data['Claim_Value'].mean(), inplace=True)\n",
        "#The inplace = true ensures that the changes are applied directly to the DataFrame\n",
        "\n",
        "# Check for missing values again\n",
        "missing_values = data.isna().sum()\n",
        "print(missing_values)"
      ],
      "metadata": {
        "id": "73NvG3ByKCFs",
        "colab": {
          "base_uri": "https://localhost:8080/"
        },
        "outputId": "b99151a2-5f38-4e03-d561-fc6af86d43e7"
      },
      "execution_count": null,
      "outputs": [
        {
          "output_type": "stream",
          "name": "stdout",
          "text": [
            "Area                0\n",
            "Consumer_profile    0\n",
            "Product_category    0\n",
            "Product_type        0\n",
            "AC_1001_Issue       0\n",
            "AC_1002_Issue       0\n",
            "AC_1003_Issue       0\n",
            "TV_2001_Issue       0\n",
            "TV_2002_Issue       0\n",
            "TV_2003_Issue       0\n",
            "Claim_Value         0\n",
            "Service_Centre      0\n",
            "Product_Age         0\n",
            "Purchased_from      0\n",
            "Call_details        0\n",
            "Purpose             0\n",
            "Fraud               0\n",
            "dtype: int64\n"
          ]
        }
      ]
    },
    {
      "cell_type": "markdown",
      "source": [
        "Now, to check if the data is normalized, I need to plot an histogram for each numercial feature. If the histogram is bell shaped then the data is normalized, if not I need to normalize it."
      ],
      "metadata": {
        "id": "wKd4jrVL88Pt"
      }
    },
    {
      "cell_type": "code",
      "source": [
        "import matplotlib.pyplot as plt\n",
        "import seaborn as sns #used for put a curve in the histograms\n",
        "\n",
        "numerical_columns = [\"AC_1001_Issue\", \"AC_1002_Issue\", \"AC_1003_Issue\", \"TV_2001_Issue\",\n",
        "                    \"TV_2002_Issue\", \"TV_2003_Issue\", \"Claim_Value\", \"Service_Centre\",\n",
        "                    \"Product_Age\", \"Call_details\"]\n",
        "\n",
        "# Plot histograms for each selected column\n",
        "for column in numerical_columns:\n",
        "    plt.figure(figsize=(4, 2))\n",
        "    sns.histplot(data[column], bins = 10, kde=True, color='blue') #kde=True is for include the curve\n",
        "    plt.title(f'Histogram of {column}')\n",
        "    plt.xlabel(column)\n",
        "    plt.ylabel('Frequency')\n",
        "    plt.show()"
      ],
      "metadata": {
        "id": "VituBkJV5qDQ",
        "colab": {
          "base_uri": "https://localhost:8080/",
          "height": 1000
        },
        "outputId": "3af201e8-1b86-4d67-8c52-6fc9d1be960c"
      },
      "execution_count": null,
      "outputs": [
        {
          "output_type": "display_data",
          "data": {
            "text/plain": [
              "<Figure size 400x200 with 1 Axes>"
            ],
            "image/png": "[encoded data removed]"
          },
          "metadata": {}
        },
        {
          "output_type": "display_data",
          "data": {
            "text/plain": [
              "<Figure size 400x200 with 1 Axes>"
            ],
            "image/png": "[encoded data removed]"
          },
          "metadata": {}
        },
        {
          "output_type": "display_data",
          "data": {
            "text/plain": [
              "<Figure size 400x200 with 1 Axes>"
            ],
            "image/png": "[encoded data removed]"
          },
          "metadata": {}
        },
        {
          "output_type": "display_data",
          "data": {
            "text/plain": [
              "<Figure size 400x200 with 1 Axes>"
            ],
            "image/png": "[encoded data removed]"
          },
          "metadata": {}
        },
        {
          "output_type": "display_data",
          "data": {
            "text/plain": [
              "<Figure size 400x200 with 1 Axes>"
            ],
            "image/png": "[encoded data removed]"
          },
          "metadata": {}
        },
        {
          "output_type": "display_data",
          "data": {
            "text/plain": [
              "<Figure size 400x200 with 1 Axes>"
            ],
            "image/png": "[encoded data removed]"
          },
          "metadata": {}
        },
        {
          "output_type": "display_data",
          "data": {
            "text/plain": [
              "<Figure size 400x200 with 1 Axes>"
            ],
            "image/png": "[encoded data removed]"
          },
          "metadata": {}
        },
        {
          "output_type": "display_data",
          "data": {
            "text/plain": [
              "<Figure size 400x200 with 1 Axes>"
            ],
            "image/png": "[encoded data removed]"
          },
          "metadata": {}
        },
        {
          "output_type": "display_data",
          "data": {
            "text/plain": [
              "<Figure size 400x200 with 1 Axes>"
            ],
            "image/png": "[encoded data removed]"
          },
          "metadata": {}
        },
        {
          "output_type": "display_data",
          "data": {
            "text/plain": [
              "<Figure size 400x200 with 1 Axes>"
            ],
            "image/png": "[encoded data removed]"
          },
          "metadata": {}
        }
      ]
    },
    {
      "cell_type": "markdown",
      "source": [
        "As its possible to see the histograms are not bell shaped, so I need to normalize the data. \"Normalization is a good technique to use when you do not know the distribution of your data or when you know the distribution is not Gaussian (a bell curve).\""
      ],
      "metadata": {
        "id": "qSFFqfnbFXi3"
      }
    },
    {
      "cell_type": "code",
      "source": [
        "from sklearn.preprocessing import StandardScaler\n",
        "scaler = StandardScaler()\n",
        "\n",
        "# Normalize the selected columns in the original DataFrame\n",
        "data[numerical_columns] = scaler.fit_transform(data[numerical_columns])"
      ],
      "metadata": {
        "id": "rINjsMilFeNZ"
      },
      "execution_count": null,
      "outputs": []
    },
    {
      "cell_type": "markdown",
      "source": [
        "After normalize it, I need to one-hot encoded the data. Why sould I do this?\n",
        "\"Many machine learning algorithms cannot operate on label data directly. They require all input variables and output variables to be numeric.\"\n",
        "So \"one hot encoding is used to convert categorical data to integer data.\" Thats why I gave the name numerical_columns and categorical_columns to the variables."
      ],
      "metadata": {
        "id": "przQ2M4zIqIb"
      }
    },
    {
      "cell_type": "code",
      "source": [
        "#One hot enconded with Pandas\n",
        "categorical_columns = [\"Area\", \"Consumer_profile\", \"Product_category\", \"Product_type\",\n",
        "                       \"Purchased_from\", \"Purpose\"]\n",
        "\n",
        "# Perform one-hot encoding with function from Pandas\n",
        "data = pd.get_dummies(data, columns=categorical_columns)\n",
        "# Check if I was sucessfull\n",
        "print(data.head())\n",
        "\n",
        "#-------------------------------------------------------------------------------------\n",
        "#One hot encoded with sklearn\n",
        "from sklearn.compose import ColumnTransformer\n",
        "from sklearn.pipeline import Pipeline\n",
        "from sklearn.preprocessing import OneHotEncoder\n",
        "\n",
        "# Define columns\n",
        "categorical_features = data.select_dtypes(include=['object']).columns\n",
        "\n",
        "categorical_transformer = Pipeline(steps=[\n",
        "    ('imputer', SimpleImputer(strategy='most_frequent')),  # Impute missing values with the most frequent value\n",
        "    ('onehot', OneHotEncoder(handle_unknown='ignore'))  # One-hot encode categorical features\n",
        "])"
      ],
      "metadata": {
        "colab": {
          "base_uri": "https://localhost:8080/"
        },
        "id": "8PJooDB4KG1b",
        "outputId": "1106f24d-0f36-42af-d5fb-c27b71b5f8a2"
      },
      "execution_count": null,
      "outputs": [
        {
          "output_type": "stream",
          "name": "stdout",
          "text": [
            "   AC_1001_Issue  AC_1002_Issue  AC_1003_Issue  TV_2001_Issue  TV_2002_Issue  \\\n",
            "0      -0.469372       1.191246       3.615998      -0.603106      -0.676689   \n",
            "1      -0.469372      -0.511905      -0.379635       1.099266       0.885953   \n",
            "2      -0.469372      -0.511905      -0.379635      -0.603106      -0.676689   \n",
            "3      -0.469372      -0.511905      -0.379635       1.099266       0.885953   \n",
            "4      -0.469372      -0.511905      -0.379635      -0.603106      -0.676689   \n",
            "\n",
            "   TV_2003_Issue  Claim_Value  Service_Centre  Product_Age  Call_details  ...  \\\n",
            "0      -0.542318    -0.736238       -0.482493     0.140535      1.661648  ...   \n",
            "1       1.288306     0.841687        0.097319    -0.456859     -0.810462  ...   \n",
            "2      -0.542318    -0.311430       -0.482493    -0.696659     -0.707099  ...   \n",
            "3      -0.542318    -0.756072       -1.642116     2.117826      1.230966  ...   \n",
            "4      -0.542318     0.457315        0.097319    -0.696659     -0.362554  ...   \n",
            "\n",
            "   Product_category_Household  Product_type_AC  Product_type_TV  \\\n",
            "0                           1                1                0   \n",
            "1                           0                0                1   \n",
            "2                           1                1                0   \n",
            "3                           0                0                1   \n",
            "4                           1                1                0   \n",
            "\n",
            "   Purchased_from_Dealer  Purchased_from_Internet  \\\n",
            "0                      0                        0   \n",
            "1                      1                        0   \n",
            "2                      1                        0   \n",
            "3                      1                        0   \n",
            "4                      0                        0   \n",
            "\n",
            "   Purchased_from_Manufacturer  Purpose_Claim  Purpose_Complaint  \\\n",
            "0                            1              1                  0   \n",
            "1                            0              0                  1   \n",
            "2                            0              1                  0   \n",
            "3                            0              0                  0   \n",
            "4                            1              1                  0   \n",
            "\n",
            "   Purpose_Other  Purpose_claim  \n",
            "0              0              0  \n",
            "1              0              0  \n",
            "2              0              0  \n",
            "3              1              0  \n",
            "4              0              0  \n",
            "\n",
            "[5 rows x 26 columns]\n"
          ]
        }
      ]
    },
    {
      "cell_type": "markdown",
      "source": [
        "Now, for training and evaluating the predictive model, I need to split my dataset into input features (X) and the target feature (y). X are all columns except the Fraud column, this one is the target. I will also separate the dataset into a training set and a testing set. The training set is used to train the model, and the testing set is used to evaluate the performance."
      ],
      "metadata": {
        "id": "QbXqSBvZRjP0"
      }
    },
    {
      "cell_type": "code",
      "source": [
        "X = data.drop(\"Fraud\", axis=1)\n",
        "y = data[\"Fraud\"]\n",
        "\n",
        "#The train_test_split function is specifically designed to split the dataset into training and testing sets.\n",
        "from sklearn.model_selection import train_test_split\n",
        "\n",
        "#Split the data into a training set and a testing set (80% training, 20% testing)\n",
        "X_train, X_test, y_train, y_test = train_test_split(X, y, test_size=0.2, random_state=42)"
      ],
      "metadata": {
        "id": "GoybQsQpBNYY"
      },
      "execution_count": null,
      "outputs": []
    },
    {
      "cell_type": "markdown",
      "source": [
        " In the previous piece of code setting a specific random_state value means that every time I run this code, the data will be split in the same way. It helps in obtaining consistent and comparable results."
      ],
      "metadata": {
        "id": "OjHoxoSOCeZt"
      }
    },
    {
      "cell_type": "markdown",
      "source": [
        "Now, I want to use 5 fold cross-validation and evaluate the logistic regression algorithm. I will evaluate all the algorithms using the following metrics: Accuracy, F1-score, and AUC."
      ],
      "metadata": {
        "id": "L9X8N9A5Cmz4"
      }
    },
    {
      "cell_type": "code",
      "source": [
        "from sklearn.model_selection import cross_validate\n",
        "from sklearn.linear_model import LogisticRegression\n",
        "from sklearn.metrics import make_scorer, accuracy_score, f1_score, roc_auc_score\n",
        "\n",
        "#Create an instance of the Logistic Regression model, again with a fixed random state for reproducibility.\n",
        "model = LogisticRegression(random_state=42)\n",
        "\n",
        "#Metrics\n",
        "scoring = {\n",
        "    'accuracy': make_scorer(accuracy_score),\n",
        "    'f1_score': make_scorer(f1_score),\n",
        "    'roc_auc': make_scorer(roc_auc_score)\n",
        "}\n",
        "\n",
        "#Perform 5-fold cross-validation and obtain scores for each metric\n",
        "cross_val_results = cross_validate(model, X, y, cv=5, scoring=scoring)\n",
        "\n",
        "print(\"Cross-Validation Results:\")\n",
        "print(f\"Accuracy: {cross_val_results['test_accuracy'].mean():.4f} (std: {cross_val_results['test_accuracy'].std():.4f})\")\n",
        "print(f\"F1 Score: {cross_val_results['test_f1_score'].mean():.4f} (std: {cross_val_results['test_f1_score'].std():.4f})\")\n",
        "print(f\"AUC: {cross_val_results['test_roc_auc'].mean():.4f} (std: {cross_val_results['test_roc_auc'].std():.4f})\")\n",
        "\n"
      ],
      "metadata": {
        "colab": {
          "base_uri": "https://localhost:8080/"
        },
        "id": "r4NioQD5Eglh",
        "outputId": "aceaa18e-3e22-4187-d21f-6fa3b065a04b"
      },
      "execution_count": null,
      "outputs": [
        {
          "output_type": "stream",
          "name": "stdout",
          "text": [
            "Cross-Validation Results:\n",
            "Accuracy: 0.9095 (std: 0.0014)\n",
            "F1 Score: 0.0000 (std: 0.0000)\n",
            "AUC: 0.4942 (std: 0.0008)\n"
          ]
        }
      ]
    },
    {
      "cell_type": "markdown",
      "source": [
        "Testing with RandomForest Algorithm."
      ],
      "metadata": {
        "id": "uMX5EsZzJHZj"
      }
    },
    {
      "cell_type": "code",
      "source": [
        "from sklearn.ensemble import RandomForestClassifier\n",
        "\n",
        "rf_model = RandomForestClassifier(random_state=42)\n",
        "\n",
        "rf_cross_val_results = cross_validate(rf_model, X, y, cv=5, scoring=scoring)\n",
        "\n",
        "print(\"Random Forest Cross-Validation Results:\")\n",
        "print(f\"Accuracy: {rf_cross_val_results['test_accuracy'].mean():.4f} (std: {rf_cross_val_results['test_accuracy'].std():.4f})\")\n",
        "print(f\"F1 Score: {rf_cross_val_results['test_f1_score'].mean():.4f} (std: {rf_cross_val_results['test_f1_score'].std():.4f})\")\n",
        "print(f\"AUC: {rf_cross_val_results['test_roc_auc'].mean():.4f} (std: {rf_cross_val_results['test_roc_auc'].std():.4f})\")\n",
        "\n"
      ],
      "metadata": {
        "colab": {
          "base_uri": "https://localhost:8080/"
        },
        "id": "GH_vz7-fJG3G",
        "outputId": "dc18ce3e-6613-49b3-c843-8daa219ec8ca"
      },
      "execution_count": null,
      "outputs": [
        {
          "output_type": "stream",
          "name": "stdout",
          "text": [
            "Random Forest Cross-Validation Results:\n",
            "Accuracy: 0.9763 (std: 0.0019)\n",
            "F1 Score: 0.8460 (std: 0.0147)\n",
            "AUC: 0.9042 (std: 0.0190)\n"
          ]
        }
      ]
    },
    {
      "cell_type": "markdown",
      "source": [
        "Testing k-Nearest Neighbors (k-NN) Algorithm."
      ],
      "metadata": {
        "id": "lACNQeRtK4hM"
      }
    },
    {
      "cell_type": "code",
      "source": [
        "from sklearn.neighbors import KNeighborsClassifier\n",
        "\n",
        "knn_model = KNeighborsClassifier()\n",
        "\n",
        "knn_cross_val_results = cross_validate(knn_model, X, y, cv=5, scoring=scoring)\n",
        "\n",
        "print(\"k-NN Cross-Validation Results:\")\n",
        "print(f\"Accuracy: {knn_cross_val_results['test_accuracy'].mean():.4f} (std: {knn_cross_val_results['test_accuracy'].std():.4f})\")\n",
        "print(f\"F1 Score: {knn_cross_val_results['test_f1_score'].mean():.4f} (std: {knn_cross_val_results['test_f1_score'].std():.4f})\")\n",
        "print(f\"AUC: {knn_cross_val_results['test_roc_auc'].mean():.4f} (std: {knn_cross_val_results['test_roc_auc'].std():.4f})\")\n",
        "\n"
      ],
      "metadata": {
        "colab": {
          "base_uri": "https://localhost:8080/"
        },
        "id": "4B-_P1lTK87n",
        "outputId": "90231fcf-447b-4129-d6d5-1ed6d2ae8b4f"
      },
      "execution_count": null,
      "outputs": [
        {
          "output_type": "stream",
          "name": "stdout",
          "text": [
            "k-NN Cross-Validation Results:\n",
            "Accuracy: 0.9710 (std: 0.0010)\n",
            "F1 Score: 0.8052 (std: 0.0094)\n",
            "AUC: 0.8712 (std: 0.0168)\n"
          ]
        }
      ]
    },
    {
      "cell_type": "markdown",
      "source": [
        "Testing with Naive Bayes"
      ],
      "metadata": {
        "id": "kUDMXvnBcvRe"
      }
    },
    {
      "cell_type": "code",
      "source": [
        "from sklearn.naive_bayes import GaussianNB\n",
        "\n",
        "nb_model = GaussianNB()\n",
        "\n",
        "nb_cross_val_results = cross_validate(nb_model, X, y, cv=5, scoring=scoring)\n",
        "\n",
        "print(\"Naive Bayes Cross-Validation Results:\")\n",
        "print(f\"Accuracy: {nb_cross_val_results['test_accuracy'].mean():.4f} (std: {nb_cross_val_results['test_accuracy'].std():.4f})\")\n",
        "print(f\"F1 Score: {nb_cross_val_results['test_f1_score'].mean():.4f} (std: {nb_cross_val_results['test_f1_score'].std():.4f})\")\n",
        "print(f\"AUC: {nb_cross_val_results['test_roc_auc'].mean():.4f} (std: {nb_cross_val_results['test_roc_auc'].std():.4f})\")\n",
        "\n"
      ],
      "metadata": {
        "colab": {
          "base_uri": "https://localhost:8080/"
        },
        "id": "kuHbsbb-cx2m",
        "outputId": "5a2c7e8b-3d65-48ba-fdec-e3673f5da5d3"
      },
      "execution_count": null,
      "outputs": [
        {
          "output_type": "stream",
          "name": "stdout",
          "text": [
            "Naive Bayes Cross-Validation Results:\n",
            "Accuracy: 0.4890 (std: 0.0096)\n",
            "F1 Score: 0.2260 (std: 0.0058)\n",
            "AUC: 0.6922 (std: 0.0116)\n"
          ]
        }
      ]
    },
    {
      "cell_type": "markdown",
      "source": [
        "Testing with Support Vector Machine (SVM)"
      ],
      "metadata": {
        "id": "K92yPiyjfB-V"
      }
    },
    {
      "cell_type": "code",
      "source": [
        "from sklearn.svm import SVC\n",
        "\n",
        "svm_model = SVC(random_state=42)\n",
        "\n",
        "svm_cross_val_results = cross_validate(svm_model, X, y, cv=5, scoring=scoring)\n",
        "\n",
        "print(\"Support Vector Machine (SVM) Cross-Validation Results:\")\n",
        "print(f\"Accuracy: {svm_cross_val_results['test_accuracy'].mean():.4f} (std: {svm_cross_val_results['test_accuracy'].std():.4f})\")\n",
        "print(f\"F1 Score: {svm_cross_val_results['test_f1_score'].mean():.4f} (std: {svm_cross_val_results['test_f1_score'].std():.4f})\")\n",
        "print(f\"AUC: {svm_cross_val_results['test_roc_auc'].mean():.4f} (std: {svm_cross_val_results['test_roc_auc'].std():.4f})\")\n",
        "\n"
      ],
      "metadata": {
        "colab": {
          "base_uri": "https://localhost:8080/"
        },
        "id": "tbgDxfJWfEyR",
        "outputId": "04b41cd0-431c-41ff-97e2-47b6a20e174f"
      },
      "execution_count": null,
      "outputs": [
        {
          "output_type": "stream",
          "name": "stdout",
          "text": [
            "Support Vector Machine (SVM) Cross-Validation Results:\n",
            "Accuracy: 0.9658 (std: 0.0030)\n",
            "F1 Score: 0.7502 (std: 0.0274)\n",
            "AUC: 0.8197 (std: 0.0248)\n"
          ]
        }
      ]
    },
    {
      "cell_type": "markdown",
      "source": [
        "Testing with Gradient Boost"
      ],
      "metadata": {
        "id": "ZlL-mlaZfS55"
      }
    },
    {
      "cell_type": "code",
      "source": [
        "from sklearn.ensemble import GradientBoostingClassifier\n",
        "\n",
        "gb_model = GradientBoostingClassifier(random_state=42)\n",
        "\n",
        "gb_cross_val_results = cross_validate(gb_model, X, y, cv=5, scoring=scoring)\n",
        "\n",
        "print(\"Gradient Boosting Cross-Validation Results:\")\n",
        "print(f\"Accuracy: {gb_cross_val_results['test_accuracy'].mean():.4f} (std: {gb_cross_val_results['test_accuracy'].std():.4f})\")\n",
        "print(f\"F1 Score: {gb_cross_val_results['test_f1_score'].mean():.4f} (std: {gb_cross_val_results['test_f1_score'].std():.4f})\")\n",
        "print(f\"AUC: {gb_cross_val_results['test_roc_auc'].mean():.4f} (std: {gb_cross_val_results['test_roc_auc'].std():.4f})\")\n",
        "\n"
      ],
      "metadata": {
        "colab": {
          "base_uri": "https://localhost:8080/"
        },
        "id": "QY4CsQoWfV3G",
        "outputId": "770d810a-5b7b-4531-ad82-221ab2ffca31"
      },
      "execution_count": null,
      "outputs": [
        {
          "output_type": "stream",
          "name": "stdout",
          "text": [
            "Gradient Boosting Cross-Validation Results:\n",
            "Accuracy: 0.9722 (std: 0.0043)\n",
            "F1 Score: 0.8019 (std: 0.0329)\n",
            "AUC: 0.8512 (std: 0.0223)\n"
          ]
        }
      ]
    },
    {
      "cell_type": "markdown",
      "source": [
        "In this [Google Sheets](https://docs.google.com/spreadsheets/d/172tNm4VUseAgOHv8esVGoDEqf_cyBYQzk6x7ii308Oc/edit?usp=sharing), I registered the performance of the algorithms and did my analisys to each one."
      ],
      "metadata": {
        "id": "-AgGcFwZhKRG"
      }
    },
    {
      "cell_type": "markdown",
      "source": [
        "After analysed all of the algorithms, the best one was Random Forest, with the highest values for accuracy, F1-score, and AUC. I create a pipeline to train it on the complete dataset."
      ],
      "metadata": {
        "id": "H2y7h3QFBpMO"
      }
    },
    {
      "cell_type": "code",
      "source": [
        "# Import necessary modules and classes from scikit-learn\n",
        "from sklearn.ensemble import RandomForestClassifier\n",
        "from sklearn.pipeline import Pipeline\n",
        "from sklearn.impute import SimpleImputer\n",
        "from sklearn.preprocessing import StandardScaler, OneHotEncoder\n",
        "from sklearn.compose import ColumnTransformer\n",
        "\n",
        "X = data.drop(\"Fraud\", axis=1)\n",
        "y = data[\"Fraud\"]\n",
        "\n",
        "# Define numerical and categorical columns\n",
        "numerical_columns = [\"AC_1001_Issue\", \"AC_1002_Issue\", \"AC_1003_Issue\", \"TV_2001_Issue\",\n",
        "                    \"TV_2002_Issue\", \"TV_2003_Issue\", \"Claim_Value\", \"Service_Centre\",\n",
        "                    \"Product_Age\", \"Call_details\"]\n",
        "\n",
        "categorical_columns = [\"Area\", \"Consumer_profile\", \"Product_category\", \"Product_type\",\n",
        "                       \"Purchased_from\", \"Purpose\"]\n",
        "\n",
        "# Create transformers for numerical and categorical columns\n",
        "numeric_transformer = Pipeline(steps=[\n",
        "    ('imputer', SimpleImputer(strategy='mean')),  # Fill missing values with mean\n",
        "    ('scaler', StandardScaler())  # Standardize numerical features\n",
        "])\n",
        "\n",
        "categorical_transformer = Pipeline(steps=[\n",
        "    ('imputer', SimpleImputer(strategy='most_frequent')),  # Fill missing values with most frequent value\n",
        "    ('onehot', OneHotEncoder(handle_unknown='ignore'))  # One-hot encode categorical features\n",
        "])\n",
        "\n",
        "# Combine transformers using ColumnTransformer\n",
        "preprocessor = ColumnTransformer(\n",
        "    transformers=[\n",
        "        ('num', numeric_transformer, numerical_columns),\n",
        "        ('cat', categorical_transformer, categorical_columns)\n",
        "    ])\n",
        "\n",
        "# Create the final pipeline with the preprocessor and the model (Random Forest classifier)\n",
        "pipeline = Pipeline(steps=[\n",
        "    ('preprocessor', preprocessor),\n",
        "    ('classifier', RandomForestClassifier(random_state=42))  # Initialize Random Forest classifier\n",
        "])\n",
        "\n",
        "# Train the pipeline\n",
        "pipeline.fit(X, y)"
      ],
      "metadata": {
        "colab": {
          "base_uri": "https://localhost:8080/",
          "height": 227
        },
        "id": "n1KmWrHnEhQ9",
        "outputId": "bd088a50-5c9f-403f-e3f7-93f488570435"
      },
      "execution_count": null,
      "outputs": [
        {
          "output_type": "execute_result",
          "data": {
            "text/plain": [
              "Pipeline(steps=[('preprocessor',\n",
              "                 ColumnTransformer(transformers=[('num',\n",
              "                                                  Pipeline(steps=[('imputer',\n",
              "                                                                   SimpleImputer()),\n",
              "                                                                  ('scaler',\n",
              "                                                                   StandardScaler())]),\n",
              "                                                  ['AC_1001_Issue',\n",
              "                                                   'AC_1002_Issue',\n",
              "                                                   'AC_1003_Issue',\n",
              "                                                   'TV_2001_Issue',\n",
              "                                                   'TV_2002_Issue',\n",
              "                                                   'TV_2003_Issue',\n",
              "                                                   'Claim_Value',\n",
              "                                                   'Service_Centre',\n",
              "                                                   'Product_Age',\n",
              "                                                   'Call_details']),\n",
              "                                                 ('cat',\n",
              "                                                  Pipeline(steps=[('imputer',\n",
              "                                                                   SimpleImputer(strategy='most_frequent')),\n",
              "                                                                  ('onehot',\n",
              "                                                                   OneHotEncoder(handle_unknown='ignore'))]),\n",
              "                                                  ['Area', 'Consumer_profile',\n",
              "                                                   'Product_category',\n",
              "                                                   'Product_type',\n",
              "                                                   'Purchased_from',\n",
              "                                                   'Purpose'])])),\n",
              "                ('classifier', RandomForestClassifier(random_state=42))])"
            ],
            "text/html": [
              "<style>#sk-container-id-2 {color: black;background-color: white;}#sk-container-id-2 pre{padding: 0;}#sk-container-id-2 div.sk-toggleable {background-color: white;}#sk-container-id-2 label.sk-toggleable__label {cursor: pointer;display: block;width: 100%;margin-bottom: 0;padding: 0.3em;box-sizing: border-box;text-align: center;}#sk-container-id-2 label.sk-toggleable__label-arrow:before {content: \"▸\";float: left;margin-right: 0.25em;color: #696969;}#sk-container-id-2 label.sk-toggleable__label-arrow:hover:before {color: black;}#sk-container-id-2 div.sk-estimator:hover label.sk-toggleable__label-arrow:before {color: black;}#sk-container-id-2 div.sk-toggleable__content {max-height: 0;max-width: 0;overflow: hidden;text-align: left;background-color: #f0f8ff;}#sk-container-id-2 div.sk-toggleable__content pre {margin: 0.2em;color: black;border-radius: 0.25em;background-color: #f0f8ff;}#sk-container-id-2 input.sk-toggleable__control:checked~div.sk-toggleable__content {max-height: 200px;max-width: 100%;overflow: auto;}#sk-container-id-2 input.sk-toggleable__control:checked~label.sk-toggleable__label-arrow:before {content: \"▾\";}#sk-container-id-2 div.sk-estimator input.sk-toggleable__control:checked~label.sk-toggleable__label {background-color: #d4ebff;}#sk-container-id-2 div.sk-label input.sk-toggleable__control:checked~label.sk-toggleable__label {background-color: #d4ebff;}#sk-container-id-2 input.sk-hidden--visually {border: 0;clip: rect(1px 1px 1px 1px);clip: rect(1px, 1px, 1px, 1px);height: 1px;margin: -1px;overflow: hidden;padding: 0;position: absolute;width: 1px;}#sk-container-id-2 div.sk-estimator {font-family: monospace;background-color: #f0f8ff;border: 1px dotted black;border-radius: 0.25em;box-sizing: border-box;margin-bottom: 0.5em;}#sk-container-id-2 div.sk-estimator:hover {background-color: #d4ebff;}#sk-container-id-2 div.sk-parallel-item::after {content: \"\";width: 100%;border-bottom: 1px solid gray;flex-grow: 1;}#sk-container-id-2 div.sk-label:hover label.sk-toggleable__label {background-color: #d4ebff;}#sk-container-id-2 div.sk-serial::before {content: \"\";position: absolute;border-left: 1px solid gray;box-sizing: border-box;top: 0;bottom: 0;left: 50%;z-index: 0;}#sk-container-id-2 div.sk-serial {display: flex;flex-direction: column;align-items: center;background-color: white;padding-right: 0.2em;padding-left: 0.2em;position: relative;}#sk-container-id-2 div.sk-item {position: relative;z-index: 1;}#sk-container-id-2 div.sk-parallel {display: flex;align-items: stretch;justify-content: center;background-color: white;position: relative;}#sk-container-id-2 div.sk-item::before, #sk-container-id-2 div.sk-parallel-item::before {content: \"\";position: absolute;border-left: 1px solid gray;box-sizing: border-box;top: 0;bottom: 0;left: 50%;z-index: -1;}#sk-container-id-2 div.sk-parallel-item {display: flex;flex-direction: column;z-index: 1;position: relative;background-color: white;}#sk-container-id-2 div.sk-parallel-item:first-child::after {align-self: flex-end;width: 50%;}#sk-container-id-2 div.sk-parallel-item:last-child::after {align-self: flex-start;width: 50%;}#sk-container-id-2 div.sk-parallel-item:only-child::after {width: 0;}#sk-container-id-2 div.sk-dashed-wrapped {border: 1px dashed gray;margin: 0 0.4em 0.5em 0.4em;box-sizing: border-box;padding-bottom: 0.4em;background-color: white;}#sk-container-id-2 div.sk-label label {font-family: monospace;font-weight: bold;display: inline-block;line-height: 1.2em;}#sk-container-id-2 div.sk-label-container {text-align: center;}#sk-container-id-2 div.sk-container {/* jupyter's `normalize.less` sets `[hidden] { display: none; }` but bootstrap.min.css set `[hidden] { display: none !important; }` so we also need the `!important` here to be able to override the default hidden behavior on the sphinx rendered scikit-learn.org. See: https://github.com/scikit-learn/scikit-learn/issues/21755 */display: inline-block !important;position: relative;}#sk-container-id-2 div.sk-text-repr-fallback {display: none;}</style><div id=\"sk-container-id-2\" class=\"sk-top-container\"><div class=\"sk-text-repr-fallback\"><pre>Pipeline(steps=[(&#x27;preprocessor&#x27;,\n",
              "                 ColumnTransformer(transformers=[(&#x27;num&#x27;,\n",
              "                                                  Pipeline(steps=[(&#x27;imputer&#x27;,\n",
              "                                                                   SimpleImputer()),\n",
              "                                                                  (&#x27;scaler&#x27;,\n",
              "                                                                   StandardScaler())]),\n",
              "                                                  [&#x27;AC_1001_Issue&#x27;,\n",
              "                                                   &#x27;AC_1002_Issue&#x27;,\n",
              "                                                   &#x27;AC_1003_Issue&#x27;,\n",
              "                                                   &#x27;TV_2001_Issue&#x27;,\n",
              "                                                   &#x27;TV_2002_Issue&#x27;,\n",
              "                                                   &#x27;TV_2003_Issue&#x27;,\n",
              "                                                   &#x27;Claim_Value&#x27;,\n",
              "                                                   &#x27;Service_Centre&#x27;,\n",
              "                                                   &#x27;Product_Age&#x27;,\n",
              "                                                   &#x27;Call_details&#x27;]),\n",
              "                                                 (&#x27;cat&#x27;,\n",
              "                                                  Pipeline(steps=[(&#x27;imputer&#x27;,\n",
              "                                                                   SimpleImputer(strategy=&#x27;most_frequent&#x27;)),\n",
              "                                                                  (&#x27;onehot&#x27;,\n",
              "                                                                   OneHotEncoder(handle_unknown=&#x27;ignore&#x27;))]),\n",
              "                                                  [&#x27;Area&#x27;, &#x27;Consumer_profile&#x27;,\n",
              "                                                   &#x27;Product_category&#x27;,\n",
              "                                                   &#x27;Product_type&#x27;,\n",
              "                                                   &#x27;Purchased_from&#x27;,\n",
              "                                                   &#x27;Purpose&#x27;])])),\n",
              "                (&#x27;classifier&#x27;, RandomForestClassifier(random_state=42))])</pre><b>In a Jupyter environment, please rerun this cell to show the HTML representation or trust the notebook. <br />On GitHub, the HTML representation is unable to render, please try loading this page with nbviewer.org.</b></div><div class=\"sk-container\" hidden><div class=\"sk-item sk-dashed-wrapped\"><div class=\"sk-label-container\"><div class=\"sk-label sk-toggleable\"><input class=\"sk-toggleable__control sk-hidden--visually\" id=\"sk-estimator-id-10\" type=\"checkbox\" ><label for=\"sk-estimator-id-10\" class=\"sk-toggleable__label sk-toggleable__label-arrow\">Pipeline</label><div class=\"sk-toggleable__content\"><pre>Pipeline(steps=[(&#x27;preprocessor&#x27;,\n",
              "                 ColumnTransformer(transformers=[(&#x27;num&#x27;,\n",
              "                                                  Pipeline(steps=[(&#x27;imputer&#x27;,\n",
              "                                                                   SimpleImputer()),\n",
              "                                                                  (&#x27;scaler&#x27;,\n",
              "                                                                   StandardScaler())]),\n",
              "                                                  [&#x27;AC_1001_Issue&#x27;,\n",
              "                                                   &#x27;AC_1002_Issue&#x27;,\n",
              "                                                   &#x27;AC_1003_Issue&#x27;,\n",
              "                                                   &#x27;TV_2001_Issue&#x27;,\n",
              "                                                   &#x27;TV_2002_Issue&#x27;,\n",
              "                                                   &#x27;TV_2003_Issue&#x27;,\n",
              "                                                   &#x27;Claim_Value&#x27;,\n",
              "                                                   &#x27;Service_Centre&#x27;,\n",
              "                                                   &#x27;Product_Age&#x27;,\n",
              "                                                   &#x27;Call_details&#x27;]),\n",
              "                                                 (&#x27;cat&#x27;,\n",
              "                                                  Pipeline(steps=[(&#x27;imputer&#x27;,\n",
              "                                                                   SimpleImputer(strategy=&#x27;most_frequent&#x27;)),\n",
              "                                                                  (&#x27;onehot&#x27;,\n",
              "                                                                   OneHotEncoder(handle_unknown=&#x27;ignore&#x27;))]),\n",
              "                                                  [&#x27;Area&#x27;, &#x27;Consumer_profile&#x27;,\n",
              "                                                   &#x27;Product_category&#x27;,\n",
              "                                                   &#x27;Product_type&#x27;,\n",
              "                                                   &#x27;Purchased_from&#x27;,\n",
              "                                                   &#x27;Purpose&#x27;])])),\n",
              "                (&#x27;classifier&#x27;, RandomForestClassifier(random_state=42))])</pre></div></div></div><div class=\"sk-serial\"><div class=\"sk-item sk-dashed-wrapped\"><div class=\"sk-label-container\"><div class=\"sk-label sk-toggleable\"><input class=\"sk-toggleable__control sk-hidden--visually\" id=\"sk-estimator-id-11\" type=\"checkbox\" ><label for=\"sk-estimator-id-11\" class=\"sk-toggleable__label sk-toggleable__label-arrow\">preprocessor: ColumnTransformer</label><div class=\"sk-toggleable__content\"><pre>ColumnTransformer(transformers=[(&#x27;num&#x27;,\n",
              "                                 Pipeline(steps=[(&#x27;imputer&#x27;, SimpleImputer()),\n",
              "                                                 (&#x27;scaler&#x27;, StandardScaler())]),\n",
              "                                 [&#x27;AC_1001_Issue&#x27;, &#x27;AC_1002_Issue&#x27;,\n",
              "                                  &#x27;AC_1003_Issue&#x27;, &#x27;TV_2001_Issue&#x27;,\n",
              "                                  &#x27;TV_2002_Issue&#x27;, &#x27;TV_2003_Issue&#x27;,\n",
              "                                  &#x27;Claim_Value&#x27;, &#x27;Service_Centre&#x27;,\n",
              "                                  &#x27;Product_Age&#x27;, &#x27;Call_details&#x27;]),\n",
              "                                (&#x27;cat&#x27;,\n",
              "                                 Pipeline(steps=[(&#x27;imputer&#x27;,\n",
              "                                                  SimpleImputer(strategy=&#x27;most_frequent&#x27;)),\n",
              "                                                 (&#x27;onehot&#x27;,\n",
              "                                                  OneHotEncoder(handle_unknown=&#x27;ignore&#x27;))]),\n",
              "                                 [&#x27;Area&#x27;, &#x27;Consumer_profile&#x27;,\n",
              "                                  &#x27;Product_category&#x27;, &#x27;Product_type&#x27;,\n",
              "                                  &#x27;Purchased_from&#x27;, &#x27;Purpose&#x27;])])</pre></div></div></div><div class=\"sk-parallel\"><div class=\"sk-parallel-item\"><div class=\"sk-item\"><div class=\"sk-label-container\"><div class=\"sk-label sk-toggleable\"><input class=\"sk-toggleable__control sk-hidden--visually\" id=\"sk-estimator-id-12\" type=\"checkbox\" ><label for=\"sk-estimator-id-12\" class=\"sk-toggleable__label sk-toggleable__label-arrow\">num</label><div class=\"sk-toggleable__content\"><pre>[&#x27;AC_1001_Issue&#x27;, &#x27;AC_1002_Issue&#x27;, &#x27;AC_1003_Issue&#x27;, &#x27;TV_2001_Issue&#x27;, &#x27;TV_2002_Issue&#x27;, &#x27;TV_2003_Issue&#x27;, &#x27;Claim_Value&#x27;, &#x27;Service_Centre&#x27;, &#x27;Product_Age&#x27;, &#x27;Call_details&#x27;]</pre></div></div></div><div class=\"sk-serial\"><div class=\"sk-item\"><div class=\"sk-serial\"><div class=\"sk-item\"><div class=\"sk-estimator sk-toggleable\"><input class=\"sk-toggleable__control sk-hidden--visually\" id=\"sk-estimator-id-13\" type=\"checkbox\" ><label for=\"sk-estimator-id-13\" class=\"sk-toggleable__label sk-toggleable__label-arrow\">SimpleImputer</label><div class=\"sk-toggleable__content\"><pre>SimpleImputer()</pre></div></div></div><div class=\"sk-item\"><div class=\"sk-estimator sk-toggleable\"><input class=\"sk-toggleable__control sk-hidden--visually\" id=\"sk-estimator-id-14\" type=\"checkbox\" ><label for=\"sk-estimator-id-14\" class=\"sk-toggleable__label sk-toggleable__label-arrow\">StandardScaler</label><div class=\"sk-toggleable__content\"><pre>StandardScaler()</pre></div></div></div></div></div></div></div></div><div class=\"sk-parallel-item\"><div class=\"sk-item\"><div class=\"sk-label-container\"><div class=\"sk-label sk-toggleable\"><input class=\"sk-toggleable__control sk-hidden--visually\" id=\"sk-estimator-id-15\" type=\"checkbox\" ><label for=\"sk-estimator-id-15\" class=\"sk-toggleable__label sk-toggleable__label-arrow\">cat</label><div class=\"sk-toggleable__content\"><pre>[&#x27;Area&#x27;, &#x27;Consumer_profile&#x27;, &#x27;Product_category&#x27;, &#x27;Product_type&#x27;, &#x27;Purchased_from&#x27;, &#x27;Purpose&#x27;]</pre></div></div></div><div class=\"sk-serial\"><div class=\"sk-item\"><div class=\"sk-serial\"><div class=\"sk-item\"><div class=\"sk-estimator sk-toggleable\"><input class=\"sk-toggleable__control sk-hidden--visually\" id=\"sk-estimator-id-16\" type=\"checkbox\" ><label for=\"sk-estimator-id-16\" class=\"sk-toggleable__label sk-toggleable__label-arrow\">SimpleImputer</label><div class=\"sk-toggleable__content\"><pre>SimpleImputer(strategy=&#x27;most_frequent&#x27;)</pre></div></div></div><div class=\"sk-item\"><div class=\"sk-estimator sk-toggleable\"><input class=\"sk-toggleable__control sk-hidden--visually\" id=\"sk-estimator-id-17\" type=\"checkbox\" ><label for=\"sk-estimator-id-17\" class=\"sk-toggleable__label sk-toggleable__label-arrow\">OneHotEncoder</label><div class=\"sk-toggleable__content\"><pre>OneHotEncoder(handle_unknown=&#x27;ignore&#x27;)</pre></div></div></div></div></div></div></div></div></div></div><div class=\"sk-item\"><div class=\"sk-estimator sk-toggleable\"><input class=\"sk-toggleable__control sk-hidden--visually\" id=\"sk-estimator-id-18\" type=\"checkbox\" ><label for=\"sk-estimator-id-18\" class=\"sk-toggleable__label sk-toggleable__label-arrow\">RandomForestClassifier</label><div class=\"sk-toggleable__content\"><pre>RandomForestClassifier(random_state=42)</pre></div></div></div></div></div></div></div>"
            ]
          },
          "metadata": {},
          "execution_count": 9
        }
      ]
    },
    {
      "cell_type": "markdown",
      "source": [
        "To serialize complete pipeline with pickle to save my trained model. I can do this:"
      ],
      "metadata": {
        "id": "-K8fnZ6mFnQo"
      }
    },
    {
      "cell_type": "code",
      "source": [
        "import pickle\n",
        "\n",
        "# Train the pipeline on the complete dataset\n",
        "pipeline.fit(X, y)\n",
        "\n",
        "# Serialize the pipeline to a file\n",
        "with open('/content/drive/MyDrive/Colab Notebooks/FraudDetectionModel_pipeline.pkl', 'wb') as model_file:\n",
        "    pickle.dump(pipeline, model_file)\n"
      ],
      "metadata": {
        "id": "ETjbhiL_FxaE"
      },
      "execution_count": null,
      "outputs": []
    }
  ]
}